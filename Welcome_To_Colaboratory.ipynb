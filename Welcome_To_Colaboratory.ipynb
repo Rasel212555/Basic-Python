{
  "cells": [
    {
      "cell_type": "markdown",
      "metadata": {
        "id": "view-in-github",
        "colab_type": "text"
      },
      "source": [
        "<a href=\"https://colab.research.google.com/github/Rasel212555/Basic-Python/blob/master/Welcome_To_Colaboratory.ipynb\" target=\"_parent\"><img src=\"https://colab.research.google.com/assets/colab-badge.svg\" alt=\"Open In Colab\"/></a>"
      ]
    },
    {
      "cell_type": "code",
      "source": [
        "apples = 10\n",
        "people = 2\n",
        "result = apples/people\n",
        "print (result)"
      ],
      "metadata": {
        "id": "ZxWa1JLXroUJ",
        "outputId": "3c9b4667-81c7-4708-af30-e717ea920efd",
        "colab": {
          "base_uri": "https://localhost:8080/"
        }
      },
      "execution_count": 28,
      "outputs": [
        {
          "output_type": "stream",
          "name": "stdout",
          "text": [
            "5.0\n"
          ]
        }
      ]
    },
    {
      "cell_type": "code",
      "source": [
        "credit_card1 = \"1234 1234 1234\"\n",
        "credit_card2 = \"1234 1234 1234\"\n",
        "\n",
        "if credit_card1 is credit_card2:\n",
        "  print(\"True\")"
      ],
      "metadata": {
        "id": "ikNe7VtDznKX"
      },
      "execution_count": 42,
      "outputs": []
    },
    {
      "cell_type": "code",
      "source": [
        "num = int(input (\"Enter number :\"))\n",
        "\n",
        "if num >= 0 and num <= 49:\n",
        "  print(\"F\")\n",
        "elif num >=50 and num <=59:\n",
        "  print(\"D\") \n",
        "elif num >=60 and num <=69:\n",
        "  print(\"C\")\n",
        "elif num >=70 and num <=79:\n",
        "  print(\"B\")\n",
        "elif num >=80 and num <=100:\n",
        "  print(\"A\")  \n",
        "else:\n",
        "  print (\"Not Found\")       "
      ],
      "metadata": {
        "colab": {
          "base_uri": "https://localhost:8080/"
        },
        "id": "7F5s0utt3EHk",
        "outputId": "386bfb3b-b2b6-4fe5-9b66-37e802450f21"
      },
      "execution_count": 31,
      "outputs": [
        {
          "output_type": "stream",
          "name": "stdout",
          "text": [
            "Enter number :59\n",
            "D\n"
          ]
        }
      ]
    }
  ],
  "metadata": {
    "colab": {
      "name": "Welcome To Colaboratory",
      "toc_visible": true,
      "provenance": [],
      "include_colab_link": true
    },
    "kernelspec": {
      "display_name": "Python 3",
      "name": "python3"
    }
  },
  "nbformat": 4,
  "nbformat_minor": 0
}